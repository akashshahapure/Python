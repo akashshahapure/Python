{
 "cells": [
  {
   "cell_type": "markdown",
   "metadata": {
    "colab_type": "text",
    "id": "e2CWWATVTFOQ"
   },
   "source": [
    "# Practice Exercise"
   ]
  },
  {
   "cell_type": "markdown",
   "metadata": {
    "colab_type": "text",
    "id": "gxSUV29HVelr"
   },
   "source": [
    "Question 1: Let us start by printing the word \"Welcome to the practice exercise\" in python."
   ]
  },
  {
   "cell_type": "code",
   "execution_count": 5,
   "metadata": {
    "colab": {},
    "colab_type": "code",
    "id": "sn3vu-6dVsEP"
   },
   "outputs": [
    {
     "name": "stdout",
     "output_type": "stream",
     "text": [
      "Welcome to the practice exercise\n"
     ]
    }
   ],
   "source": [
    "# Print the statement:\n",
    "print(\"Welcome to the practice exercise\")"
   ]
  },
  {
   "cell_type": "markdown",
   "metadata": {
    "colab_type": "text",
    "id": "Ys8qEL-HTMA1"
   },
   "source": [
    "Question 2: Create a string variable and print the string."
   ]
  },
  {
   "cell_type": "code",
   "execution_count": 6,
   "metadata": {
    "colab": {},
    "colab_type": "code",
    "id": "ypmiTaqjSu_C"
   },
   "outputs": [
    {
     "name": "stdout",
     "output_type": "stream",
     "text": [
      "Welcome to the practice exercise\n"
     ]
    }
   ],
   "source": [
    "# Create a string variable:\n",
    "str_var=\"Welcome to the practice exercise\"\n",
    "# Print the string:\n",
    "print(str_var)"
   ]
  },
  {
   "cell_type": "markdown",
   "metadata": {
    "colab_type": "text",
    "id": "SCtZJrEjUyLV"
   },
   "source": [
    "Question 3: Create a string by taking user input and print the string."
   ]
  },
  {
   "cell_type": "code",
   "execution_count": 7,
   "metadata": {
    "colab": {},
    "colab_type": "code",
    "id": "kuNOPj11TU10"
   },
   "outputs": [
    {
     "name": "stdout",
     "output_type": "stream",
     "text": [
      "Run\n"
     ]
    }
   ],
   "source": [
    "# Create a string variable taking user input:\n",
    "input_str=input('Enter string:')\n",
    "# Print the string:\n",
    "print(input_str)"
   ]
  },
  {
   "cell_type": "markdown",
   "metadata": {
    "colab_type": "text",
    "id": "DImK3bXbVQmK"
   },
   "source": [
    "Question 4: Print the pattern given below:\n",
    "\n",
    "\n",
    "\n",
    "![image.png](data:image/png;base64,iVBORw0KGgoAAAANSUhEUgAAADIAAABFCAYAAAAIGLXIAAACvklEQVRoBe1abW7DIAzljJF6oSpXSY/SHWQ/egxPgA3GfAwxEO3kSVP4NLz3TGInNfBP/sw/wQEK5N2UVEVUkUUMqGstInbYrCoyTN2iiarIImKHzaoiPdS9HgcYY+D86hn9tzGLFHnBdTNwPC44PxmIVcKr8PxsINFJFEjkorO06IzQ6qoIMdF9VUWaVH2d7vlhnyH8f+XzZLEiTbhTOxXIVDonGFNFJpA41YQqMpXOCcZUkQkkTjWhikAShhxwfTOCvy84eHhyu+DFukORxtX6w8DfC4OK2PD8hCfa97l5rMtln3cD5k6jqdenw+f9BLMPCG0Gr45ZoQob4oAKIK7NArDKfgYQZJ6/SeHA3weI32jmOvwMCcatqx0PPDXvAsT5v9go8ypfdKDwDMmNy3o2ua9h8LB74w4EO/T1Je3NwZ8hPydNuCj5+kviNQykHwRAONglpFsVofs/f1bYMt2ZnCsx1luutxVIidnNbcOutXnf2fIKJKNkc4MqslmAbHlVJKNkc4MqslmAbPmqIj7rY2FG6aNmEqrExKoWGMag0H8AomDRyMAzsdv3VbgJJOQMGX4An7PHzZeGhDaeSEGeaDngFKeB+MqVzA0Ws8IgELuZThCA0W+y0XQuT4VLkbIF2iQVoP7jTGuwOtmxdMKFPwhwLlKNcGMuQjQmKQC6EbkdB0XjS23UR9emItGHWYhuZ2KYHoFW0t1MDVo22jCYcIUe6UoINKQIYWBaqAJJh4mNlnKIUpv0dzTqFCEFM1LQFSnXuV3wbHkH2uwEIvwcXSt5U1UAUvJ3kIzbjTgw7fdi5HopwbHWBwTljca8QtK1Yt0uIO4+tGZmCyBRiMbh1fWFG4XoZNUKEHQlklf6sTOQPgtSEO3N0RkLZ5DcrMMu23tSrABJxnxERYG8m0yqiCqyiAF1rUXEDpv9AT7GtDRI+0oLAAAAAElFTkSuQmCC)"
   ]
  },
  {
   "cell_type": "code",
   "execution_count": 8,
   "metadata": {
    "colab": {},
    "colab_type": "code",
    "id": "DkSe8TvcVPMK"
   },
   "outputs": [
    {
     "name": "stdout",
     "output_type": "stream",
     "text": [
      "  1  \n",
      " 234 \n",
      "56789\n"
     ]
    }
   ],
   "source": [
    "# Print the pattern shown in the question above:\n",
    "print(\"  1  \")\n",
    "print(\" 234 \")\n",
    "print(\"56789\")"
   ]
  },
  {
   "cell_type": "markdown",
   "metadata": {
    "colab_type": "text",
    "id": "wmEibYOCXoUV"
   },
   "source": [
    "Question 5: Print the '#' symbol 15 times without having to type it for 15 times."
   ]
  },
  {
   "cell_type": "code",
   "execution_count": 9,
   "metadata": {
    "colab": {},
    "colab_type": "code",
    "id": "ca4yCx9OXfyt"
   },
   "outputs": [
    {
     "name": "stdout",
     "output_type": "stream",
     "text": [
      "###############\n"
     ]
    }
   ],
   "source": [
    "# Print the pattern shown in the question above:\n",
    "print('#'*15)"
   ]
  },
  {
   "cell_type": "markdown",
   "metadata": {
    "colab_type": "text",
    "id": "pCh5QAyGYdWe"
   },
   "source": [
    "Question 6: Take the user input to print the current date"
   ]
  },
  {
   "cell_type": "code",
   "execution_count": 10,
   "metadata": {
    "colab": {},
    "colab_type": "code",
    "id": "uO-kTgb7XoJZ"
   },
   "outputs": [
    {
     "name": "stdout",
     "output_type": "stream",
     "text": [
      "Today's date is:15/09/2021\n"
     ]
    }
   ],
   "source": [
    "# Take the user input into a string:\n",
    "date=input('Enter current date:')\n",
    "# Print the date:\n",
    "print(\"Today's date is:\"+date)"
   ]
  },
  {
   "cell_type": "markdown",
   "metadata": {
    "colab_type": "text",
    "id": "WzkRCuNYZOnp"
   },
   "source": [
    "Question 7: Type cast the interger 1.8 into a string and print the result."
   ]
  },
  {
   "cell_type": "code",
   "execution_count": 11,
   "metadata": {
    "colab": {},
    "colab_type": "code",
    "id": "tv7dzZX2YdFH"
   },
   "outputs": [
    {
     "name": "stdout",
     "output_type": "stream",
     "text": [
      "Integer 1.8 converted to string 1.8\n"
     ]
    }
   ],
   "source": [
    "# Store the interger as a varaible:\n",
    "a=1.8\n",
    "# Typecast the integer:\n",
    "string=str(a)\n",
    "# Print the result:\n",
    "print(\"Integer\",a,\"converted to string\",string)"
   ]
  },
  {
   "cell_type": "markdown",
   "metadata": {
    "colab_type": "text",
    "id": "IP5LMF00bATM"
   },
   "source": [
    "Question 8: Find the product of two numbers input by the user."
   ]
  },
  {
   "cell_type": "code",
   "execution_count": 12,
   "metadata": {
    "colab": {},
    "colab_type": "code",
    "id": "_REzzqdwa3Gp"
   },
   "outputs": [
    {
     "name": "stdout",
     "output_type": "stream",
     "text": [
      "30\n"
     ]
    }
   ],
   "source": [
    "# Take input of the first number and store it in a variable:\n",
    "x=int(input(\"Enter 1st no. : \"))\n",
    "# Take input of the second number and store it in a variable:\n",
    "y=int(input(\"Enter 2nd no. : \"))\n",
    "# You will need to typecast the input strings into integers\n",
    "# Calculate the product:\n",
    "# Print the result:\n",
    "print(x*y)"
   ]
  },
  {
   "cell_type": "markdown",
   "metadata": {
    "colab_type": "text",
    "id": "041d-OjCcXt9"
   },
   "source": [
    "Question 9: Calculate the remainder of the number 6 when divided by the number 4."
   ]
  },
  {
   "cell_type": "code",
   "execution_count": 13,
   "metadata": {
    "colab": {},
    "colab_type": "code",
    "id": "rLigN9eFb1JT"
   },
   "outputs": [
    {
     "data": {
      "text/plain": "2"
     },
     "execution_count": 13,
     "metadata": {},
     "output_type": "execute_result"
    }
   ],
   "source": [
    "# Find the modulus and print the result:\n",
    "6%4"
   ]
  },
  {
   "cell_type": "markdown",
   "metadata": {
    "colab_type": "text",
    "id": "xyFL6iLUczpm"
   },
   "source": [
    "Question 10: Solve the error in code below and print the correct result."
   ]
  },
  {
   "cell_type": "code",
   "execution_count": 14,
   "metadata": {
    "colab": {},
    "colab_type": "code",
    "id": "DX_mc1H8cyRC"
   },
   "outputs": [
    {
     "name": "stdout",
     "output_type": "stream",
     "text": [
      "I can't study any longer\n"
     ]
    }
   ],
   "source": [
    "# Given:\n",
    "#print('I can't study any longer')\n",
    "\n",
    "# Corrected solution:\n",
    "print(\"I can't study any longer\")"
   ]
  },
  {
   "cell_type": "markdown",
   "metadata": {
    "colab_type": "text",
    "id": "MsVRoye5daZG"
   },
   "source": [
    "Question 11: Print the following statement using only 1 print statement:\n",
    "\n",
    "Hello\n",
    "\n",
    "Good Morning"
   ]
  },
  {
   "cell_type": "code",
   "execution_count": 15,
   "metadata": {
    "colab": {},
    "colab_type": "code",
    "id": "PqnV_g10dOzS"
   },
   "outputs": [
    {
     "name": "stdout",
     "output_type": "stream",
     "text": [
      "Hello\n",
      "\n",
      "Good Morning\n"
     ]
    }
   ],
   "source": [
    "# Print the required statement:\\\n",
    "print(\"Hello\\n\\nGood Morning\")"
   ]
  },
  {
   "cell_type": "markdown",
   "metadata": {
    "colab_type": "text",
    "id": "r8xXSTHRd5RT"
   },
   "source": [
    "Question 12: Concatenate the given strings and print the result:\n"
   ]
  },
  {
   "cell_type": "code",
   "execution_count": 16,
   "metadata": {
    "colab": {},
    "colab_type": "code",
    "id": "PuwSE5uidy24"
   },
   "outputs": [
    {
     "name": "stdout",
     "output_type": "stream",
     "text": [
      "Welcome to upgrad coding practice session.\n"
     ]
    }
   ],
   "source": [
    "# Given below are the two strings:\n",
    "string1= 'Welcome to upgrad'\n",
    "string2= 'coding practice session.'\n",
    "\n",
    "# Concatenate and print the result:\n",
    "print(string1+' '+string2)"
   ]
  },
  {
   "cell_type": "markdown",
   "metadata": {
    "colab_type": "text",
    "id": "QpkUZwCsefdt"
   },
   "source": [
    "Question 13: Find the length of string given below and print the result.\n"
   ]
  },
  {
   "cell_type": "code",
   "execution_count": 17,
   "metadata": {
    "colab": {},
    "colab_type": "code",
    "id": "24Am9RaseEXP"
   },
   "outputs": [
    {
     "name": "stdout",
     "output_type": "stream",
     "text": [
      "Length of string is: 58\n"
     ]
    }
   ],
   "source": [
    "# Given below is the string:\n",
    "st=\"No string provided as per question hence I entered my own!\"\n",
    "# Calculate and print the length:\n",
    "print(\"Length of string is:\",len(st))"
   ]
  },
  {
   "cell_type": "markdown",
   "metadata": {
    "colab_type": "text",
    "id": "KoVEaa4QfMb_"
   },
   "source": [
    "Question 14: Create a string of length=10. Obtain the fifth and seventh character of the string. Concatenate the characters and form a new string. Print the new string."
   ]
  },
  {
   "cell_type": "code",
   "execution_count": 18,
   "metadata": {
    "colab": {},
    "colab_type": "code",
    "id": "U-356eSce6UM"
   },
   "outputs": [
    {
     "name": "stdout",
     "output_type": "stream",
     "text": [
      "tc\n"
     ]
    }
   ],
   "source": [
    "# Create a string of length 10:\n",
    "len10str=\"Practice14\"\n",
    "# You can verify the length:\n",
    "len(len10str)\n",
    "# Obtain the fifth letter and store it into a new string:\n",
    "char5th=len10str[4]\n",
    "# Obtain the seventh letter and store it into a new string:\n",
    "char7th=len10str[6]\n",
    "# Concatenate the two strings:\n",
    "con=char5th+char7th\n",
    "# Print the result:\n",
    "print(con)"
   ]
  },
  {
   "cell_type": "markdown",
   "metadata": {
    "colab_type": "text",
    "id": "-9wQ6PQtzNi3"
   },
   "source": [
    "Question 15: Given below is a string. Perform the following operations and print the results:\n",
    "1. Remove the extra spaces from the string and print the new string.\n",
    "2. Find the length of new string\n",
    "3. Remove the last 5 characters of the new string\n",
    "4. Find the 15th character of the new string\n",
    "5. Compute the result of concatenation of the first and last letter of the new string.\n"
   ]
  },
  {
   "cell_type": "code",
   "execution_count": 19,
   "metadata": {
    "colab": {},
    "colab_type": "code",
    "id": "T9GOWY_JyErD"
   },
   "outputs": [
    {
     "name": "stdout",
     "output_type": "stream",
     "text": [
      "     I hope you enjoyed this practice session. \n",
      " 46\n",
      "I hope you enjoyed this practice session.\n",
      "I hope you enjoyed this practice ses\n",
      "o\n",
      "Is\n"
     ]
    }
   ],
   "source": [
    "# Given below is the string:\n",
    "line= '     I hope you enjoyed this practice session.'\n",
    "print(line,'\\n',len(line))\n",
    "# Removing extra spaces:\n",
    "stripedline=line.strip()\n",
    "# Print the result:\n",
    "print(stripedline)\n",
    "# Calculate the length:\n",
    "len(stripedline)\n",
    "# Slice the string to remove the last 5 characters:\n",
    "rmlst5=stripedline[0:-5]\n",
    "# Print the result:\n",
    "print(rmlst5)\n",
    "# Print the 15th character of the string:\n",
    "print(rmlst5[14])\n",
    "# Print the concatenation of first and last character of resulting string:\n",
    "print(rmlst5[0]+rmlst5[-1])"
   ]
  },
  {
   "cell_type": "code",
   "execution_count": 19,
   "metadata": {},
   "outputs": [],
   "source": []
  }
 ],
 "metadata": {
  "colab": {
   "name": "Basics_of_python.ipynb",
   "provenance": []
  },
  "kernelspec": {
   "name": "pycharm-18baf01a",
   "language": "python",
   "display_name": "PyCharm (Python Scripts)"
  },
  "language_info": {
   "codemirror_mode": {
    "name": "ipython",
    "version": 3
   },
   "file_extension": ".py",
   "mimetype": "text/x-python",
   "name": "python",
   "nbconvert_exporter": "python",
   "pygments_lexer": "ipython3",
   "version": "3.8.8"
  }
 },
 "nbformat": 4,
 "nbformat_minor": 1
}