{
 "cells": [
  {
   "cell_type": "markdown",
   "metadata": {
    "colab_type": "text",
    "id": "pCvEoEa_hucz"
   },
   "source": [
    "# Ice Cream Sundae - Ordering Menu"
   ]
  },
  {
   "cell_type": "markdown",
   "metadata": {
    "colab_type": "text",
    "id": "1i7toKBxhuc0"
   },
   "source": [
    "You are expected to build an interactive application to order ice cream Sundays in an ice-cream parlour.\n",
    "You are expected to use the concepts you learnt from the Object-Oriented programming session. The complete building process is divided into questions given below after you solve all the questions you will the complete ordering application.\n",
    "\n",
    "Let's get started!!\n"
   ]
  },
  {
   "cell_type": "markdown",
   "metadata": {
    "colab_type": "text",
    "id": "0C_tgAnKhuc1"
   },
   "source": [
    "### Question \n",
    "\n",
    "Declare a class \"ice_cream\". It needs to have the following constants and instance methods defined. \n",
    "\n",
    "1. Radius of a small scoop (r_small = 1.5)\n",
    "2. Radius of large scoop (r_large = 2.5)\n",
    "3. Value of pie (pi = 3.14)\n",
    "4. An instance method \"flavour\" - it should print enter your flavour.\n",
    "\n",
    "Given below is the example of a sample class and its methods and variables for reference:\n",
    "\n",
    "class chocolate:\n",
    "\n",
    "    chocolate_length=10\n",
    "    chocolate_breadth=2\n",
    "    \n",
    "    def area(self):\n",
    "        print(\"Enter your favourite chocolate\")"
   ]
  },
  {
   "cell_type": "code",
   "execution_count": 3,
   "metadata": {
    "colab": {},
    "colab_type": "code",
    "id": "GfLJzbqYhuc2"
   },
   "outputs": [],
   "source": [
    "# Declare class here:\n",
    "class ice_cream:\n",
    "    # Declare class variables:\n",
    "    r_small = 1.5\n",
    "    r_large = 2.5\n",
    "    pi = 3.14\n",
    "    # Declare instance methods:\n",
    "    def flavour(self):\n",
    "        print('Enter Your Flavour: ')"
   ]
  },
  {
   "cell_type": "code",
   "execution_count": 5,
   "metadata": {
    "colab": {},
    "colab_type": "code",
    "id": "f0SQN8krhuc7"
   },
   "outputs": [
    {
     "name": "stdout",
     "output_type": "stream",
     "text": [
      "Enter Your Flavour: \n"
     ]
    }
   ],
   "source": [
    "# Call the class and function(s):\n",
    "Sundays=ice_cream()\n",
    "Sundays.flavour()"
   ]
  },
  {
   "cell_type": "markdown",
   "metadata": {
    "colab_type": "text",
    "id": "0pbvDJyJhudA"
   },
   "source": [
    "### Question\n",
    "\n",
    "Modify the class \"ice_cream\" to add a method which can calculate the cost of the Ice cream based on its size. \n",
    "\n",
    "Cost of ice cream is 0.5$ per unit volume. Take the input from the user about what size of ice cream scoops they want small or large. Based on that calculate the volume of the scoop and use the volume and the cost per volume to calculate the cost of ice cream. \n",
    "\n",
    "Hint: Declare a class similar to example above. Add new function that calculates the cost depending on the scope size. Use If-else statement to calculate ice-cream cost."
   ]
  },
  {
   "cell_type": "code",
   "execution_count": 18,
   "metadata": {
    "colab": {},
    "colab_type": "code",
    "id": "9eQxfZURhudA"
   },
   "outputs": [],
   "source": [
    "# Declare class here:\n",
    "class ice_cream:\n",
    "    # Declare class variables:\n",
    "    r_small = 1.5\n",
    "    r_large = 2.5\n",
    "    pi = 3.14\n",
    "    # Declare instance methods:\n",
    "    def flavour(self):\n",
    "        print('Enter Your Flavour: ')\n",
    "    \n",
    "    def cost(self):\n",
    "        order = input(\"Enter size small or large:\").lower()\n",
    "        size_cost = {'small':1.5 , 'large':2.5}\n",
    "        print('Cost of the '+order+' icecreame is $',0.5 * size_cost[order])\n",
    "        "
   ]
  },
  {
   "cell_type": "code",
   "execution_count": 19,
   "metadata": {
    "colab": {},
    "colab_type": "code",
    "id": "mXEmGzKEhudF"
   },
   "outputs": [
    {
     "name": "stdout",
     "output_type": "stream",
     "text": [
      "Enter size small or large:large\n",
      "Cost of the large icecreame is $ 1.25\n"
     ]
    }
   ],
   "source": [
    "# Call the class and function(s):\n",
    "Sundays=ice_cream()\n",
    "Sundays.cost()"
   ]
  },
  {
   "cell_type": "markdown",
   "metadata": {
    "colab_type": "text",
    "id": "qUipR0SYhudL"
   },
   "source": [
    "### Question \n",
    "\n",
    "In the above function find a way to round up the cost to the next integer value. \n",
    "\n",
    "Hint: In the same class as above, add a additional element to the cost variable that rounds up the cost to the next nearest integer.\n",
    "For example: if the cost is 10.41, the output should be 11$\n",
    "##### For rounding up an integer value you could use either the ceil() or round()"
   ]
  },
  {
   "cell_type": "code",
   "execution_count": 27,
   "metadata": {
    "colab": {},
    "colab_type": "code",
    "id": "o4DhKcNPhudM"
   },
   "outputs": [],
   "source": [
    "import math\n",
    "# Declare class here:\n",
    "class ice_cream:\n",
    "    # Declare class variables:\n",
    "    r_small = 1.5\n",
    "    r_large = 2.5\n",
    "    pi = 3.14\n",
    "    # Declare instance methods:\n",
    "    def flavour(self):\n",
    "        print('Enter Your Flavour: ')\n",
    "    \n",
    "    def cost(self):\n",
    "        order = input(\"Enter size small or large:\").lower()\n",
    "        size_cost = {'small':1.5 , 'large':2.5}\n",
    "        print('Cost of the '+order+' icecreame is $',math.ceil(0.5 * size_cost[order]))\n",
    "        "
   ]
  },
  {
   "cell_type": "code",
   "execution_count": 29,
   "metadata": {
    "colab": {},
    "colab_type": "code",
    "id": "2wq3zXBvhudP"
   },
   "outputs": [
    {
     "name": "stdout",
     "output_type": "stream",
     "text": [
      "Enter size small or large:small\n",
      "Cost of the small icecreame is $ 1\n"
     ]
    }
   ],
   "source": [
    "# Call the class and function(s):\n",
    "Sundays=ice_cream()\n",
    "Sundays.cost()"
   ]
  },
  {
   "cell_type": "markdown",
   "metadata": {
    "colab_type": "text",
    "id": "X-jaGJ0shudU"
   },
   "source": [
    "### Question \n",
    "\n",
    "Modify the flavour function to give the options of available flavours and take as input the choice of the customer. \n",
    "\n",
    "The available options are Vanilla, Chocolate, Butterscotch, Blue_berry.\n",
    "\n",
    "Hint: Add a new function that asks the user to input the choice of flavour."
   ]
  },
  {
   "cell_type": "code",
   "execution_count": 48,
   "metadata": {
    "colab": {},
    "colab_type": "code",
    "id": "Jo1-46mahudV"
   },
   "outputs": [],
   "source": [
    "import math\n",
    "# Declare class here:\n",
    "class ice_cream:\n",
    "    # Declare class variables:\n",
    "    r_small = 1.5\n",
    "    r_large = 2.5\n",
    "    pi = 3.14\n",
    "    \n",
    "    def flavour(self):\n",
    "        flvr_order=input('Enter 1st three Character of your Flavour (Vanilla, Chocolate, Butterscotch, Blue berry): ').lower()\n",
    "        flvr = {'van':'Vanilla', 'cho':'Chocolate', 'but':'Butterscotch', 'blu':'Blue berry'}\n",
    "        self.flvr_choice = flvr[flvr_order]\n",
    "        print('Your have ordered : '+self.flvr_choice+' icecream!')\n",
    "    \n",
    "    def cost(self):\n",
    "        size_order = input(\"Enter size small or large:\").lower()\n",
    "        size_cost = {'small':self.r_small , 'large':self.r_large}\n",
    "        print('Cost of the '+size_order+' '+self.flvr_choice+' icecream is $%d!'%(math.ceil(0.5 * size_cost[size_order])))\n",
    "        "
   ]
  },
  {
   "cell_type": "code",
   "execution_count": 49,
   "metadata": {
    "colab": {},
    "colab_type": "code",
    "id": "BbIcQx5UhudY"
   },
   "outputs": [
    {
     "name": "stdout",
     "output_type": "stream",
     "text": [
      "Enter 1st three Character of your Flavour (Vanilla, Chocolate, Butterscotch, Blue berry): buT\n",
      "Your have ordered : Butterscotch icecream!\n",
      "Enter size small or large:large\n",
      "Cost of the large Butterscotch icecream is $2!\n"
     ]
    }
   ],
   "source": [
    "# Call the class and function(s):\n",
    "Sundays=ice_cream()\n",
    "Sundays.flavour()\n",
    "Sundays.cost()"
   ]
  },
  {
   "cell_type": "code",
   "execution_count": null,
   "metadata": {},
   "outputs": [],
   "source": []
  },
  {
   "cell_type": "markdown",
   "metadata": {
    "colab_type": "text",
    "id": "_36pklUZhudc"
   },
   "source": [
    "### Question \n",
    "\n",
    "Build a new class called \"toppings\". It should have all the functionality of the ice_cream class.\n",
    "\n",
    "The toppings class will also have a method which will take as input the choice of toppings that the customer wants.\n",
    "The available choices of toppings are: Hot_fudge, Sprinkles, Caramel, Oreos, Nuts\n",
    "\n",
    "Hint: Create a new class that ask the user to choose one or more toppings"
   ]
  },
  {
   "cell_type": "code",
   "execution_count": 59,
   "metadata": {
    "colab": {},
    "colab_type": "code",
    "id": "5RwkG2vWhudd"
   },
   "outputs": [],
   "source": [
    "# Declare class here:\n",
    "class toppings(ice_cream):\n",
    "    # Declare instance methods:\n",
    "    def topping(self):\n",
    "        topping = []\n",
    "        top_order=input(\"Toppings?\\n1 = Hot Fudge\\n2 = Sprinkles\\n3 = Caramel\\n4 = Oreos\\n5 = Nuts\\n\")\n",
    "        top = {1:'Hot Fudge', 2:'Sprinkles', 3:'Caramel', 4:'Oreos', 5:'Nuts'}\n",
    "        for i in range(0,len(top_order)):\n",
    "            topping.append(top[int(top_order[i])])\n",
    "        isAre = 'topping is' if len(topping)<2 else 'toppings are'\n",
    "        print('Your selected '+isAre,topping)"
   ]
  },
  {
   "cell_type": "code",
   "execution_count": 60,
   "metadata": {
    "colab": {},
    "colab_type": "code",
    "id": "sbLm1xbnhudk"
   },
   "outputs": [
    {
     "name": "stdout",
     "output_type": "stream",
     "text": [
      "Toppings?\n",
      "1 = Hot Fudge\n",
      "2 = Sprinkles\n",
      "3 = Caramel\n",
      "4 = Oreos\n",
      "5 = Nuts\n",
      "531\n",
      "Your selected toppings are ['Nuts', 'Caramel', 'Hot Fudge']\n"
     ]
    }
   ],
   "source": [
    "# Call the class and function(s):\n",
    "Sundays=toppings()\n",
    "#Sundays.flavour()\n",
    "#Sundays.cost()\n",
    "Sundays.topping()\n"
   ]
  },
  {
   "cell_type": "markdown",
   "metadata": {
    "colab_type": "text",
    "id": "cKpJpxQMhudo"
   },
   "source": [
    "### Question \n",
    "\n",
    "Add a method to calculate the cost of selected, toppings given the cost of each of the topping is 2$. \n",
    "\n",
    "Hint: Now in the class for toppings, add a function to calculate the cost per topping added."
   ]
  },
  {
   "cell_type": "code",
   "execution_count": 73,
   "metadata": {
    "colab": {},
    "colab_type": "code",
    "id": "Z-pQhpqzhudp"
   },
   "outputs": [],
   "source": [
    "# Declare class here:\n",
    "class toppings(ice_cream):\n",
    "    \n",
    "    # Declare instance methods:\n",
    "    def topping(self):\n",
    "        topping = []\n",
    "        top_order=input(\"Toppings?\\n1 = Hot Fudge\\n2 = Sprinkles\\n3 = Caramel\\n4 = Oreos\\n5 = Nuts\\n\")\n",
    "        top = {1:'Hot Fudge', 2:'Sprinkles', 3:'Caramel', 4:'Oreos', 5:'Nuts'}\n",
    "        for i in range(0,len(top_order)):\n",
    "            topping.append(top[int(top_order[i])])\n",
    "        self.topping=topping    \n",
    "        isAre = 'topping is' if len(topping)<2 else 'toppings are'\n",
    "        print('Your selected '+isAre,topping)\n",
    "        \n",
    "    def topping_cost(self):\n",
    "        length=list(self.topping)\n",
    "        self.tcost=2*len(length)\n",
    "        print('Topping cost is $%d!'%(self.tcost))"
   ]
  },
  {
   "cell_type": "code",
   "execution_count": 74,
   "metadata": {
    "colab": {},
    "colab_type": "code",
    "id": "LXuemp0Lhuds"
   },
   "outputs": [
    {
     "name": "stdout",
     "output_type": "stream",
     "text": [
      "Toppings?\n",
      "1 = Hot Fudge\n",
      "2 = Sprinkles\n",
      "3 = Caramel\n",
      "4 = Oreos\n",
      "5 = Nuts\n",
      "531\n",
      "Your selected toppings are ['Nuts', 'Caramel', 'Hot Fudge']\n",
      "Topping cost is $6!\n"
     ]
    }
   ],
   "source": [
    "# Call the class and function(s):\n",
    "Sundays=toppings()\n",
    "#Sundays.flavour()\n",
    "#Sundays.cost()\n",
    "Sundays.topping()\n",
    "Sundays.topping_cost()"
   ]
  },
  {
   "cell_type": "markdown",
   "metadata": {
    "colab_type": "text",
    "id": "TTTDsNTthudv"
   },
   "source": [
    "### Question: \n",
    "Now you have all the functionality needed to create the ordering menu. \n",
    " \n",
    "1. An order can be for simply Ice Cream or an Ice Cream sundae. \n",
    "2. There can be multiple items in an order. \n",
    "3. Calculate the cost of each order placed.\n",
    "\n",
    "Hint: Club both the class you have created above and finally create an Ice-cream ordereing machine that display a welcome message: \"Welcome to  Ice Cream parlour\". Asks the user if he/she wants and ice cream or ice cream-sundae. Ask the choice of flavour and toppings and returns the total cost. Dont forget to ask if the user wants another item after he finishes ordering the first one!"
   ]
  },
  {
   "cell_type": "code",
   "execution_count": 4,
   "metadata": {
    "colab": {},
    "colab_type": "code",
    "id": "0R99hpmthudw"
   },
   "outputs": [
    {
     "name": "stdout",
     "output_type": "stream",
     "text": [
      "Welcome to Ice Cream parlour!\n",
      "Please enter your choice:\n",
      "1 : Ice Creame\n",
      "2 : Ice Creame Sundae\n",
      "2\n",
      "Enter your Flavour:\n",
      "1 = Vanilla\n",
      "2 = Chocolate\n",
      "3 = Butterscotch\n",
      "4 = Blue berry\n",
      "4\n",
      "Your have ordered : Blue berry icecream!\n",
      "Toppings?\n",
      "1 = Hot Fudge\n",
      "2 = Sprinkles\n",
      "3 = Caramel\n",
      "4 = Oreos\n",
      "5 = Nuts\n",
      "123\n",
      "Your selected toppings are ['Hot Fudge', 'Sprinkles', 'Caramel']\n",
      "Enter size small or large:large\n",
      "Cost of the large Blue berry icecream is $39!\n"
     ]
    }
   ],
   "source": [
    "import math\n",
    "\n",
    "class ice_cream:\n",
    "    \n",
    "    r_small = 1.5\n",
    "    r_large = 2.5\n",
    "    pi = 3.14\n",
    "    \n",
    "    def flavour(self):\n",
    "        flvr_order=int(input('Enter your Flavour:\\n1 = Vanilla\\n2 = Chocolate\\n3 = Butterscotch\\n4 = Blue berry\\n').lower())\n",
    "        flvr = {1:'Vanilla', 2:'Chocolate', 3:'Butterscotch', 4:'Blue berry'}\n",
    "        self.flvr_choice = flvr[flvr_order]\n",
    "        print('Your have ordered : '+self.flvr_choice+' icecream!')\n",
    "        \n",
    "    def cost(self):\n",
    "        pass\n",
    "        \n",
    "    def finalcost(self):\n",
    "        size_order = input(\"Enter size small or large:\").lower()\n",
    "        size_cost = {'small':4/3*self.pi*(self.r_small**3), 'large':4/3*self.pi*(self.r_large**3)}\n",
    "        self.final_cost = math.ceil(0.5 * size_cost[size_order]+self.cost())\n",
    "        print('Cost of the '+size_order+' '+self.flvr_choice+' icecream is $%d!'%(self.final_cost))\n",
    "        \n",
    "class toppings(ice_cream):\n",
    "    \n",
    "    def topping(self):\n",
    "        topping = []\n",
    "        top_order=input(\"Toppings?\\n1 = Hot Fudge\\n2 = Sprinkles\\n3 = Caramel\\n4 = Oreos\\n5 = Nuts\\n\")\n",
    "        top = {1:'Hot Fudge', 2:'Sprinkles', 3:'Caramel', 4:'Oreos', 5:'Nuts'}\n",
    "        for i in range(0,len(top_order)):\n",
    "            topping.append(top[int(top_order[i])])\n",
    "        self.topping=topping    \n",
    "        self.isAre = 'topping is' if len(topping)<2 else 'toppings are'\n",
    "        print('Your selected '+self.isAre,topping)\n",
    "        \n",
    "    def cost(self):\n",
    "        length=list(self.topping)\n",
    "        tcost=2*len(length)\n",
    "        return tcost\n",
    "        #print('Cost of the '+size_order+' '+self.flvr_choice+' icecream is $%d!'%(self.tcost))\n",
    "        \n",
    "print('Welcome to Ice Cream parlour!')\n",
    "\n",
    "cust_choice=int(input('Please enter your choice:\\n1 : Ice Creame\\n2 : Ice Creame Sundae\\n'))\n",
    "\n",
    "if cust_choice==1:\n",
    "    cust=ice_cream()\n",
    "    cust.flavour()\n",
    "    cust.finalcost()\n",
    "else:\n",
    "    cust=toppings()\n",
    "    cust.flavour()\n",
    "    cust.topping()\n",
    "    cust.finalcost()\n"
   ]
  },
  {
   "cell_type": "markdown",
   "metadata": {
    "colab_type": "text",
    "id": "xm-KVss1h00g"
   },
   "source": [
    "Great job! You have learned the skills to create a real-world application, in case of any doubts please feel free to put in up on the discussion forum or reach out to your TA(teaching assistant).\n",
    "####Happy Learning!!"
   ]
  }
 ],
 "metadata": {
  "colab": {
   "name": "Session 4 Practice Exercise1.ipynb",
   "provenance": []
  },
  "kernelspec": {
   "display_name": "Python 3",
   "language": "python",
   "name": "python3"
  },
  "language_info": {
   "codemirror_mode": {
    "name": "ipython",
    "version": 3
   },
   "file_extension": ".py",
   "mimetype": "text/x-python",
   "name": "python",
   "nbconvert_exporter": "python",
   "pygments_lexer": "ipython3",
   "version": "3.8.8"
  }
 },
 "nbformat": 4,
 "nbformat_minor": 1
}
